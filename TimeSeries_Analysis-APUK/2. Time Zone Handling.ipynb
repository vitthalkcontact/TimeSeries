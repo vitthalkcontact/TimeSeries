{
 "cells": [
  {
   "cell_type": "code",
   "execution_count": 1,
   "metadata": {},
   "outputs": [],
   "source": [
    "import numpy as np\n",
    "import pandas as pd"
   ]
  },
  {
   "cell_type": "code",
   "execution_count": 3,
   "metadata": {},
   "outputs": [],
   "source": [
    "rng = pd.date_range('3/6/2012 00:00', periods = 15, freq = 'D')\n",
    "rng.tz"
   ]
  },
  {
   "cell_type": "code",
   "execution_count": 4,
   "metadata": {},
   "outputs": [
    {
     "data": {
      "text/plain": [
       "<DstTzInfo 'Europe/London' LMT-1 day, 23:59:00 STD>"
      ]
     },
     "execution_count": 4,
     "metadata": {},
     "output_type": "execute_result"
    }
   ],
   "source": [
    "rng_tz = pd.date_range('3/6/2012 00:00', periods = 15, freq = 'D', tz = 'Europe/London')\n",
    "rng_tz.tz"
   ]
  },
  {
   "cell_type": "code",
   "execution_count": 5,
   "metadata": {},
   "outputs": [
    {
     "name": "stdout",
     "output_type": "stream",
     "text": [
      "440\n",
      "592\n",
      "{'Africa/Asmera', 'America/Fort_Wayne', 'America/Shiprock', 'Greenwich', 'America/Catamarca', 'Etc/GMT-0', 'Pacific/Samoa', 'US/East-Indiana', 'Etc/GMT+7', 'America/Indianapolis', 'America/Buenos_Aires', 'Poland', 'Chile/Continental', 'Asia/Harbin', 'America/Montreal', 'GMT+0', 'Etc/GMT+12', 'America/Mendoza', 'Etc/GMT+11', 'Japan', 'Turkey', 'Pacific/Johnston', 'Asia/Dacca', 'Chile/EasterIsland', 'Zulu', 'Etc/GMT+0', 'EST', 'Etc/GMT+6', 'America/Rosario', 'Canada/Saskatchewan', 'NZ', 'MET', 'Etc/GMT-11', 'Universal', 'CET', 'Atlantic/Faeroe', 'Iran', 'WET', 'Europe/Tiraspol', 'Canada/Yukon', 'MST7MDT', 'Australia/Yancowinna', 'America/Atka', 'Etc/GMT+8', 'Etc/GMT+10', 'Australia/North', 'Asia/Ujung_Pandang', 'Brazil/DeNoronha', 'Asia/Katmandu', 'Etc/GMT', 'GB', 'Etc/GMT-5', 'America/Jujuy', 'Asia/Istanbul', 'Asia/Tel_Aviv', 'America/Santa_Isabel', 'US/Aleutian', 'Australia/South', 'Australia/Tasmania', 'Etc/GMT-10', 'Etc/UTC', 'Australia/Canberra', 'America/Louisville', 'Australia/ACT', 'Asia/Ashkhabad', 'Antarctica/South_Pole', 'Etc/GMT-4', 'CST6CDT', 'Etc/GMT+5', 'Etc/GMT-6', 'UCT', 'Pacific/Truk', 'Etc/GMT+1', 'America/Porto_Acre', 'Etc/Universal', 'Egypt', 'Etc/GMT+4', 'ROC', 'Asia/Saigon', 'GMT0', 'EST5EDT', 'PRC', 'Europe/Belfast', 'Asia/Rangoon', 'Brazil/East', 'Etc/GMT-3', 'America/Virgin', 'Asia/Ulan_Bator', 'Mexico/BajaSur', 'Asia/Kashgar', 'Etc/GMT+9', 'Australia/Victoria', 'Asia/Calcutta', 'Brazil/Acre', 'ROK', 'Etc/GMT-8', 'Atlantic/Jan_Mayen', 'Cuba', 'Etc/GMT-7', 'Iceland', 'PST8PDT', 'Asia/Thimbu', 'W-SU', 'Pacific/Ponape', 'Kwajalein', 'GB-Eire', 'Etc/UCT', 'Asia/Chongqing', 'US/Indiana-Starke', 'Libya', 'GMT-0', 'America/Knox_IN', 'MST', 'US/Samoa', 'Etc/GMT+3', 'Portugal', 'Brazil/West', 'Pacific/Yap', 'HST', 'Mexico/BajaNorte', 'EET', 'Etc/GMT-2', 'Mexico/General', 'Hongkong', 'America/Coral_Harbour', 'Etc/GMT-1', 'Navajo', 'Jamaica', 'Australia/West', 'NZ-CHAT', 'Etc/GMT-13', 'Australia/NSW', 'Asia/Macao', 'Eire', 'Etc/GMT+2', 'America/Ensenada', 'Etc/GMT-14', 'Singapore', 'Australia/LHI', 'Europe/Nicosia', 'America/Argentina/ComodRivadavia', 'Africa/Timbuktu', 'Etc/GMT0', 'Etc/GMT-12', 'Etc/Zulu', 'America/Cordoba', 'Asia/Chungking', 'Etc/Greenwich', 'Israel', 'Australia/Queensland', 'US/Michigan', 'Etc/GMT-9'}\n"
     ]
    }
   ],
   "source": [
    "from pytz import common_timezones, all_timezones\n",
    "print(len(common_timezones))\n",
    "print(len(all_timezones))\n",
    "print(set(all_timezones) - set(common_timezones))"
   ]
  },
  {
   "cell_type": "code",
   "execution_count": 6,
   "metadata": {},
   "outputs": [
    {
     "data": {
      "text/plain": [
       "Timestamp('2016-07-10 08:50:00')"
      ]
     },
     "execution_count": 6,
     "metadata": {},
     "output_type": "execute_result"
    }
   ],
   "source": [
    "# You can also localize a naive timestamp\n",
    "t_naive = pd.Timestamp('2016-07-10 08:50')\n",
    "t_naive"
   ]
  },
  {
   "cell_type": "code",
   "execution_count": 7,
   "metadata": {},
   "outputs": [
    {
     "data": {
      "text/plain": [
       "Timestamp('2016-07-10 08:50:00-0500', tz='US/Central')"
      ]
     },
     "execution_count": 7,
     "metadata": {},
     "output_type": "execute_result"
    }
   ],
   "source": [
    "t = t_naive.tz_localize(tz = 'US/Central')\n",
    "t"
   ]
  },
  {
   "cell_type": "code",
   "execution_count": 8,
   "metadata": {},
   "outputs": [
    {
     "data": {
      "text/plain": [
       "Timestamp('2016-07-10 22:50:00+0900', tz='Asia/Tokyo')"
      ]
     },
     "execution_count": 8,
     "metadata": {},
     "output_type": "execute_result"
    }
   ],
   "source": [
    "t.tz_convert('Asia/Tokyo')"
   ]
  },
  {
   "cell_type": "code",
   "execution_count": 9,
   "metadata": {},
   "outputs": [
    {
     "data": {
      "text/plain": [
       "2016-03-10 00:00:00-06:00    0\n",
       "2016-03-11 00:00:00-06:00    1\n",
       "2016-03-12 00:00:00-06:00    2\n",
       "2016-03-13 00:00:00-06:00    3\n",
       "2016-03-14 00:00:00-05:00    4\n",
       "2016-03-15 00:00:00-05:00    5\n",
       "2016-03-16 00:00:00-05:00    6\n",
       "2016-03-17 00:00:00-05:00    7\n",
       "2016-03-18 00:00:00-05:00    8\n",
       "2016-03-19 00:00:00-05:00    9\n",
       "Freq: D, dtype: int64"
      ]
     },
     "execution_count": 9,
     "metadata": {},
     "output_type": "execute_result"
    }
   ],
   "source": [
    "# how to handle daylight savings?\n",
    "rng = pd.date_range('2016-03-10', periods=10, tz='US/Central')\n",
    "ts = pd.Series(range(10), index=rng)\n",
    "ts"
   ]
  },
  {
   "cell_type": "code",
   "execution_count": 10,
   "metadata": {},
   "outputs": [
    {
     "data": {
      "text/plain": [
       "2016-03-10 00:00:00+00:00    0\n",
       "2016-03-11 00:00:00+00:00    1\n",
       "2016-03-12 00:00:00+00:00    2\n",
       "2016-03-13 00:00:00+00:00    3\n",
       "2016-03-14 00:00:00+00:00    4\n",
       "2016-03-15 00:00:00+00:00    5\n",
       "2016-03-16 00:00:00+00:00    6\n",
       "2016-03-17 00:00:00+00:00    7\n",
       "2016-03-18 00:00:00+00:00    8\n",
       "2016-03-19 00:00:00+00:00    9\n",
       "Freq: D, dtype: int64"
      ]
     },
     "execution_count": 10,
     "metadata": {},
     "output_type": "execute_result"
    }
   ],
   "source": [
    "rng = pd.date_range('2016-03-10', periods=10, tz='utc')\n",
    "ts = pd.Series(range(10), index=rng)\n",
    "ts"
   ]
  },
  {
   "cell_type": "code",
   "execution_count": 11,
   "metadata": {},
   "outputs": [
    {
     "data": {
      "text/plain": [
       "2016-03-09 18:00:00-06:00    0\n",
       "2016-03-10 18:00:00-06:00    1\n",
       "2016-03-11 18:00:00-06:00    2\n",
       "2016-03-12 18:00:00-06:00    3\n",
       "2016-03-13 19:00:00-05:00    4\n",
       "2016-03-14 19:00:00-05:00    5\n",
       "2016-03-15 19:00:00-05:00    6\n",
       "2016-03-16 19:00:00-05:00    7\n",
       "2016-03-17 19:00:00-05:00    8\n",
       "2016-03-18 19:00:00-05:00    9\n",
       "Freq: D, dtype: int64"
      ]
     },
     "execution_count": 11,
     "metadata": {},
     "output_type": "execute_result"
    }
   ],
   "source": [
    "ts.tz_convert('US/Central')"
   ]
  },
  {
   "cell_type": "code",
   "execution_count": 12,
   "metadata": {},
   "outputs": [
    {
     "data": {
      "text/plain": [
       "DatetimeIndex(['2016-03-12 22:00:00-05:00', '2016-03-12 23:00:00-05:00',\n",
       "               '2016-03-13 00:00:00-05:00', '2016-03-13 01:00:00-05:00',\n",
       "               '2016-03-13 03:00:00-04:00', '2016-03-13 04:00:00-04:00',\n",
       "               '2016-03-13 05:00:00-04:00', '2016-03-13 06:00:00-04:00',\n",
       "               '2016-03-13 07:00:00-04:00', '2016-03-13 08:00:00-04:00',\n",
       "               '2016-03-13 09:00:00-04:00', '2016-03-13 10:00:00-04:00'],\n",
       "              dtype='datetime64[ns, US/Eastern]', freq='H')"
      ]
     },
     "execution_count": 12,
     "metadata": {},
     "output_type": "execute_result"
    }
   ],
   "source": [
    "pd.date_range('03-12-2016 22:00', periods = 12, freq = 'H', tz = 'US/Eastern')"
   ]
  },
  {
   "cell_type": "code",
   "execution_count": 15,
   "metadata": {},
   "outputs": [],
   "source": [
    "# May autocorrect an error rather than giving you a non-existent time error\n",
    "pd.Timestamp('2016-03-13 02:00', tz = 'US/Eastern')"
   ]
  },
  {
   "cell_type": "code",
   "execution_count": null,
   "metadata": {
    "collapsed": true
   },
   "outputs": [],
   "source": []
  }
 ],
 "metadata": {
  "kernelspec": {
   "display_name": "Python 3",
   "language": "python",
   "name": "python3"
  },
  "language_info": {
   "codemirror_mode": {
    "name": "ipython",
    "version": 3
   },
   "file_extension": ".py",
   "mimetype": "text/x-python",
   "name": "python",
   "nbconvert_exporter": "python",
   "pygments_lexer": "ipython3",
   "version": "3.7.4"
  },
  "widgets": {
   "state": {},
   "version": "1.1.1"
  }
 },
 "nbformat": 4,
 "nbformat_minor": 1
}
