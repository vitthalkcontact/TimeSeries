{
 "cells": [
  {
   "cell_type": "code",
   "execution_count": 2,
   "metadata": {},
   "outputs": [
    {
     "name": "stdout",
     "output_type": "stream",
     "text": [
      "(204, 1)\n"
     ]
    },
    {
     "data": {
      "text/html": [
       "<div>\n",
       "<style scoped>\n",
       "    .dataframe tbody tr th:only-of-type {\n",
       "        vertical-align: middle;\n",
       "    }\n",
       "\n",
       "    .dataframe tbody tr th {\n",
       "        vertical-align: top;\n",
       "    }\n",
       "\n",
       "    .dataframe thead th {\n",
       "        text-align: right;\n",
       "    }\n",
       "</style>\n",
       "<table border=\"1\" class=\"dataframe\">\n",
       "  <thead>\n",
       "    <tr style=\"text-align: right;\">\n",
       "      <th></th>\n",
       "      <th>y</th>\n",
       "    </tr>\n",
       "    <tr>\n",
       "      <th>ds</th>\n",
       "      <th></th>\n",
       "    </tr>\n",
       "  </thead>\n",
       "  <tbody>\n",
       "    <tr>\n",
       "      <th>1991-07-01</th>\n",
       "      <td>3.526591</td>\n",
       "    </tr>\n",
       "    <tr>\n",
       "      <th>1991-08-01</th>\n",
       "      <td>3.180891</td>\n",
       "    </tr>\n",
       "    <tr>\n",
       "      <th>1991-09-01</th>\n",
       "      <td>3.252221</td>\n",
       "    </tr>\n",
       "    <tr>\n",
       "      <th>1991-10-01</th>\n",
       "      <td>3.611003</td>\n",
       "    </tr>\n",
       "    <tr>\n",
       "      <th>1991-11-01</th>\n",
       "      <td>3.565869</td>\n",
       "    </tr>\n",
       "  </tbody>\n",
       "</table>\n",
       "</div>"
      ],
      "text/plain": [
       "                   y\n",
       "ds                  \n",
       "1991-07-01  3.526591\n",
       "1991-08-01  3.180891\n",
       "1991-09-01  3.252221\n",
       "1991-10-01  3.611003\n",
       "1991-11-01  3.565869"
      ]
     },
     "execution_count": 2,
     "metadata": {},
     "output_type": "execute_result"
    }
   ],
   "source": [
    "### Lets build the model\n",
    "## Load the data\n",
    "import pandas as pd\n",
    "import numpy as np\n",
    "import datetime\n",
    "import math\n",
    "from sklearn.metrics import mean_squared_error\n",
    "import matplotlib.pyplot as plt \n",
    "%matplotlib inline \n",
    "\n",
    "import warnings\n",
    "warnings.filterwarnings('ignore')\n",
    "\n",
    "tss = pd.read_csv(\"AusAntidiabeticDrug_1.csv\")\n",
    "tss[\"ds\"] = pd.to_datetime(tss[\"ds\"])\n",
    "tss.index = tss[\"ds\"]\n",
    "tss = tss[[\"y\"]]\n",
    "print(tss.shape)\n",
    "tss.head()"
   ]
  },
  {
   "cell_type": "code",
   "execution_count": 3,
   "metadata": {},
   "outputs": [
    {
     "data": {
      "text/html": [
       "<div>\n",
       "<style scoped>\n",
       "    .dataframe tbody tr th:only-of-type {\n",
       "        vertical-align: middle;\n",
       "    }\n",
       "\n",
       "    .dataframe tbody tr th {\n",
       "        vertical-align: top;\n",
       "    }\n",
       "\n",
       "    .dataframe thead th {\n",
       "        text-align: right;\n",
       "    }\n",
       "</style>\n",
       "<table border=\"1\" class=\"dataframe\">\n",
       "  <thead>\n",
       "    <tr style=\"text-align: right;\">\n",
       "      <th></th>\n",
       "      <th>y</th>\n",
       "      <th>month</th>\n",
       "      <th>Jan</th>\n",
       "      <th>Dec</th>\n",
       "      <th>Feb</th>\n",
       "      <th>June</th>\n",
       "      <th>lag1</th>\n",
       "      <th>Trend</th>\n",
       "    </tr>\n",
       "    <tr>\n",
       "      <th>ds</th>\n",
       "      <th></th>\n",
       "      <th></th>\n",
       "      <th></th>\n",
       "      <th></th>\n",
       "      <th></th>\n",
       "      <th></th>\n",
       "      <th></th>\n",
       "      <th></th>\n",
       "    </tr>\n",
       "  </thead>\n",
       "  <tbody>\n",
       "    <tr>\n",
       "      <th>1991-07-01</th>\n",
       "      <td>3.526591</td>\n",
       "      <td>7</td>\n",
       "      <td>0</td>\n",
       "      <td>0</td>\n",
       "      <td>0</td>\n",
       "      <td>0</td>\n",
       "      <td>0.000000</td>\n",
       "      <td>0</td>\n",
       "    </tr>\n",
       "    <tr>\n",
       "      <th>1991-08-01</th>\n",
       "      <td>3.180891</td>\n",
       "      <td>8</td>\n",
       "      <td>0</td>\n",
       "      <td>0</td>\n",
       "      <td>0</td>\n",
       "      <td>0</td>\n",
       "      <td>3.526591</td>\n",
       "      <td>1</td>\n",
       "    </tr>\n",
       "    <tr>\n",
       "      <th>1991-09-01</th>\n",
       "      <td>3.252221</td>\n",
       "      <td>9</td>\n",
       "      <td>0</td>\n",
       "      <td>0</td>\n",
       "      <td>0</td>\n",
       "      <td>0</td>\n",
       "      <td>3.180891</td>\n",
       "      <td>2</td>\n",
       "    </tr>\n",
       "    <tr>\n",
       "      <th>1991-10-01</th>\n",
       "      <td>3.611003</td>\n",
       "      <td>10</td>\n",
       "      <td>0</td>\n",
       "      <td>0</td>\n",
       "      <td>0</td>\n",
       "      <td>0</td>\n",
       "      <td>3.252221</td>\n",
       "      <td>3</td>\n",
       "    </tr>\n",
       "    <tr>\n",
       "      <th>1991-11-01</th>\n",
       "      <td>3.565869</td>\n",
       "      <td>11</td>\n",
       "      <td>0</td>\n",
       "      <td>0</td>\n",
       "      <td>0</td>\n",
       "      <td>0</td>\n",
       "      <td>3.611003</td>\n",
       "      <td>4</td>\n",
       "    </tr>\n",
       "  </tbody>\n",
       "</table>\n",
       "</div>"
      ],
      "text/plain": [
       "                   y  month  Jan  Dec  Feb  June      lag1  Trend\n",
       "ds                                                               \n",
       "1991-07-01  3.526591      7    0    0    0     0  0.000000      0\n",
       "1991-08-01  3.180891      8    0    0    0     0  3.526591      1\n",
       "1991-09-01  3.252221      9    0    0    0     0  3.180891      2\n",
       "1991-10-01  3.611003     10    0    0    0     0  3.252221      3\n",
       "1991-11-01  3.565869     11    0    0    0     0  3.611003      4"
      ]
     },
     "execution_count": 3,
     "metadata": {},
     "output_type": "execute_result"
    }
   ],
   "source": [
    "## Using month as a feature\n",
    "tss['month'] = [tss.index[i].month for i in range(len(tss))]\n",
    "## From the insights in session-1 \n",
    "#There is a large jump in sales in January each year.\n",
    "tss[\"Jan\"] = tss[\"month\"].apply(lambda x: 1 if x == 1 else 0)\n",
    "\n",
    "# From box-plot shown session-1\n",
    "tss[\"Dec\"] = tss[\"month\"].apply(lambda x: 1 if x == 12 else 0)\n",
    "tss[\"Feb\"] = tss[\"month\"].apply(lambda x: 1 if x == 2 else 0)\n",
    "tss[\"June\"] = tss[\"month\"].apply(lambda x: 1 if x == 6 else 0)\n",
    "\n",
    "## Using lag-1 variable - From Auto-Correlation Plot.\n",
    "tss[\"lag1\"] = tss.y.shift(1) \n",
    "\n",
    "## Using the trend\n",
    "tss[\"Trend\"] = [i for i in range(len(tss))]\n",
    "tss = tss.fillna(0)\n",
    "tss.head()"
   ]
  },
  {
   "cell_type": "code",
   "execution_count": 4,
   "metadata": {},
   "outputs": [
    {
     "name": "stdout",
     "output_type": "stream",
     "text": [
      "(162, 8) (42, 8)\n"
     ]
    }
   ],
   "source": [
    "## Split the data into train and test\n",
    "x_train = tss[tss.index <datetime.datetime(2005, 1, 1, 0, 0, 0)]\n",
    "x_test = tss[tss.index >=datetime.datetime(2005, 1, 1, 0, 0, 0)]\n",
    "print(x_train.shape, x_test.shape)"
   ]
  },
  {
   "cell_type": "code",
   "execution_count": 5,
   "metadata": {},
   "outputs": [
    {
     "data": {
      "text/html": [
       "<div>\n",
       "<style scoped>\n",
       "    .dataframe tbody tr th:only-of-type {\n",
       "        vertical-align: middle;\n",
       "    }\n",
       "\n",
       "    .dataframe tbody tr th {\n",
       "        vertical-align: top;\n",
       "    }\n",
       "\n",
       "    .dataframe thead th {\n",
       "        text-align: right;\n",
       "    }\n",
       "</style>\n",
       "<table border=\"1\" class=\"dataframe\">\n",
       "  <thead>\n",
       "    <tr style=\"text-align: right;\">\n",
       "      <th></th>\n",
       "      <th>y</th>\n",
       "      <th>month</th>\n",
       "      <th>Jan</th>\n",
       "      <th>Dec</th>\n",
       "      <th>Feb</th>\n",
       "      <th>June</th>\n",
       "      <th>lag1</th>\n",
       "      <th>Trend</th>\n",
       "    </tr>\n",
       "    <tr>\n",
       "      <th>ds</th>\n",
       "      <th></th>\n",
       "      <th></th>\n",
       "      <th></th>\n",
       "      <th></th>\n",
       "      <th></th>\n",
       "      <th></th>\n",
       "      <th></th>\n",
       "      <th></th>\n",
       "    </tr>\n",
       "  </thead>\n",
       "  <tbody>\n",
       "    <tr>\n",
       "      <th>1991-07-01</th>\n",
       "      <td>1.509969</td>\n",
       "      <td>7</td>\n",
       "      <td>0</td>\n",
       "      <td>0</td>\n",
       "      <td>0</td>\n",
       "      <td>0</td>\n",
       "      <td>0.000000</td>\n",
       "      <td>0</td>\n",
       "    </tr>\n",
       "    <tr>\n",
       "      <th>1991-08-01</th>\n",
       "      <td>1.430524</td>\n",
       "      <td>8</td>\n",
       "      <td>0</td>\n",
       "      <td>0</td>\n",
       "      <td>0</td>\n",
       "      <td>0</td>\n",
       "      <td>1.509969</td>\n",
       "      <td>1</td>\n",
       "    </tr>\n",
       "    <tr>\n",
       "      <th>1991-09-01</th>\n",
       "      <td>1.447441</td>\n",
       "      <td>9</td>\n",
       "      <td>0</td>\n",
       "      <td>0</td>\n",
       "      <td>0</td>\n",
       "      <td>0</td>\n",
       "      <td>1.430524</td>\n",
       "      <td>2</td>\n",
       "    </tr>\n",
       "    <tr>\n",
       "      <th>1991-10-01</th>\n",
       "      <td>1.528445</td>\n",
       "      <td>10</td>\n",
       "      <td>0</td>\n",
       "      <td>0</td>\n",
       "      <td>0</td>\n",
       "      <td>0</td>\n",
       "      <td>1.447441</td>\n",
       "      <td>3</td>\n",
       "    </tr>\n",
       "    <tr>\n",
       "      <th>1991-11-01</th>\n",
       "      <td>1.518609</td>\n",
       "      <td>11</td>\n",
       "      <td>0</td>\n",
       "      <td>0</td>\n",
       "      <td>0</td>\n",
       "      <td>0</td>\n",
       "      <td>1.528445</td>\n",
       "      <td>4</td>\n",
       "    </tr>\n",
       "  </tbody>\n",
       "</table>\n",
       "</div>"
      ],
      "text/plain": [
       "                   y  month  Jan  Dec  Feb  June      lag1  Trend\n",
       "ds                                                               \n",
       "1991-07-01  1.509969      7    0    0    0     0  0.000000      0\n",
       "1991-08-01  1.430524      8    0    0    0     0  1.509969      1\n",
       "1991-09-01  1.447441      9    0    0    0     0  1.430524      2\n",
       "1991-10-01  1.528445     10    0    0    0     0  1.447441      3\n",
       "1991-11-01  1.518609     11    0    0    0     0  1.528445      4"
      ]
     },
     "execution_count": 5,
     "metadata": {},
     "output_type": "execute_result"
    }
   ],
   "source": [
    "### Since there is a mulitiplicative effect. Use log of y instead of direct y\n",
    "x_train[\"y\"] = x_train[\"y\"].apply(lambda x: math.log(x+1))\n",
    "x_train[\"lag1\"] = x_train[\"lag1\"].apply(lambda x: math.log(x+1))\n",
    "\n",
    "x_test[\"lag1\"] = x_test[\"lag1\"].apply(lambda x: math.log(x+1))\n",
    "x_train.head()"
   ]
  },
  {
   "cell_type": "code",
   "execution_count": 6,
   "metadata": {},
   "outputs": [
    {
     "name": "stdout",
     "output_type": "stream",
     "text": [
      "RMSE: 1.9662146435161458\n"
     ]
    }
   ],
   "source": [
    "from sklearn.linear_model import LinearRegression\n",
    "model = LinearRegression().fit(x_train[[\"Jan\", \"Feb\", \"June\", \"Dec\", \"lag1\", \"Trend\"]], x_train.y)\n",
    "pred = model.predict(x_test[[\"Jan\", \"Feb\", \"June\", \"Dec\", \"lag1\",  \"Trend\"]])\n",
    "measure = math.pow(mean_squared_error(x_test.y, [math.exp(i)-1 for i in pred]), 0.5)\n",
    "print(\"RMSE:\", measure)"
   ]
  },
  {
   "cell_type": "code",
   "execution_count": 7,
   "metadata": {},
   "outputs": [
    {
     "name": "stdout",
     "output_type": "stream",
     "text": [
      "model.coef_: [ 0.238246   -0.22933591 -0.04837378  0.20326329  0.14559292  0.00705468]\n",
      "model.intercept_: 1.264164500708077\n"
     ]
    }
   ],
   "source": [
    "print(\"model.coef_: {}\".format(model.coef_)) \n",
    "print(\"model.intercept_: {}\".format(model.intercept_))"
   ]
  },
  {
   "cell_type": "code",
   "execution_count": 8,
   "metadata": {},
   "outputs": [
    {
     "data": {
      "image/png": "[encoded data removed]",
      "text/plain": [
       "<Figure size 1152x504 with 1 Axes>"
      ]
     },
     "metadata": {
      "needs_background": "light"
     },
     "output_type": "display_data"
    }
   ],
   "source": [
    "pred = pd.DataFrame(pred)\n",
    "pred.columns = [\"yhat\"]\n",
    "pred.index = x_test.index\n",
    "pred.head()\n",
    "\n",
    "plt.figure(figsize=(16, 7))\n",
    "plt.plot(x_train.index, [math.exp(i)-1 for i in x_train.y], color=\"lightblue\")\n",
    "plt.plot(x_test.index, x_test.y, color=\"green\")\n",
    "plt.plot(pred.index, [math.exp(i)-1 for i in pred.values], color=\"red\")\n",
    "plt.show()"
   ]
  },
  {
   "cell_type": "markdown",
   "metadata": {},
   "source": [
    "## Residual Plots\n",
    "- Allows us to see if there is any variation left in the data which is not captured by our model."
   ]
  },
  {
   "cell_type": "code",
   "execution_count": 9,
   "metadata": {},
   "outputs": [
    {
     "data": {
      "text/plain": [
       "Text(0.5, 1.0, 'Actual vs Predicted')"
      ]
     },
     "execution_count": 9,
     "metadata": {},
     "output_type": "execute_result"
    },
    {
     "data": {
      "image/png": "[encoded data removed]",
      "text/plain": [
       "<Figure size 1152x504 with 1 Axes>"
      ]
     },
     "metadata": {
      "needs_background": "light"
     },
     "output_type": "display_data"
    }
   ],
   "source": [
    "plt.figure(figsize=(16, 7))\n",
    "plt.scatter(x_test[\"y\"].values, [math.exp(i)-1 for i in pred[\"yhat\"].values])\n",
    "plt.xlabel(\"Actual values\")\n",
    "plt.ylabel(\"Predicted values\")\n",
    "plt.title(\"Actual vs Predicted\")"
   ]
  },
  {
   "cell_type": "code",
   "execution_count": 10,
   "metadata": {},
   "outputs": [
    {
     "data": {
      "text/plain": [
       "Text(0.5, 1.0, 'Residual plots')"
      ]
     },
     "execution_count": 10,
     "metadata": {},
     "output_type": "execute_result"
    },
    {
     "data": {
      "image/png": "[encoded data removed]",
      "text/plain": [
       "<Figure size 1152x504 with 1 Axes>"
      ]
     },
     "metadata": {
      "needs_background": "light"
     },
     "output_type": "display_data"
    }
   ],
   "source": [
    "plt.figure(figsize=(16, 7))\n",
    "plt.hist([j -  math.exp(i)-1 for i, j in zip(pred[\"yhat\"].values, x_test.y)])\n",
    "plt.title(\"Residual plots\")"
   ]
  },
  {
   "cell_type": "code",
   "execution_count": 11,
   "metadata": {},
   "outputs": [
    {
     "data": {
      "text/plain": [
       "Text(0.5, 1.0, 'Residual Plots')"
      ]
     },
     "execution_count": 11,
     "metadata": {},
     "output_type": "execute_result"
    },
    {
     "data": {
      "image/png": "[encoded data removed]",
      "text/plain": [
       "<Figure size 1152x504 with 1 Axes>"
      ]
     },
     "metadata": {
      "needs_background": "light"
     },
     "output_type": "display_data"
    }
   ],
   "source": [
    "error = [j -  math.exp(i)-1 for i, j in zip(pred[\"yhat\"].values, x_test.y)]\n",
    "datetime = x_test.index\n",
    "\n",
    "plt.figure(figsize=(16, 7))\n",
    "plt.scatter(datetime, error)\n",
    "plt.xlabel(\"datetime\")\n",
    "plt.ylabel(\"Error\")\n",
    "plt.title(\"Residual Plots\")"
   ]
  },
  {
   "cell_type": "markdown",
   "metadata": {},
   "source": [
    "## Insights:\n",
    "- The errors are random, have a constant mean and normally distributed.\n",
    "- Using Simple Linear regression and basic feature engineering we reached an RMSE value of 1.96, which is still high compared to ARIMA models, but unlike arima models, u can easily interpret your results here.\n",
    "- Careful Feature Engineering and use of complex models will reduce your RMSE value further, but there is a cost and you should choose between complexity vs interpretibility. "
   ]
  },
  {
   "cell_type": "code",
   "execution_count": null,
   "metadata": {},
   "outputs": [],
   "source": []
  }
 ],
 "metadata": {
  "kernelspec": {
   "display_name": "Python 3",
   "language": "python",
   "name": "python3"
  },
  "language_info": {
   "codemirror_mode": {
    "name": "ipython",
    "version": 3
   },
   "file_extension": ".py",
   "mimetype": "text/x-python",
   "name": "python",
   "nbconvert_exporter": "python",
   "pygments_lexer": "ipython3",
   "version": "3.7.4"
  }
 },
 "nbformat": 4,
 "nbformat_minor": 4
}
